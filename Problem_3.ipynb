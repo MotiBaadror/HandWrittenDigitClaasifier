{
 "cells": [
  {
   "cell_type": "code",
   "execution_count": 1,
   "metadata": {
    "collapsed": true
   },
   "outputs": [],
   "source": [
    "import pandas as pd\n",
    "import numpy as np\n",
    "import matplotlib.pyplot as plt\n",
    "%matplotlib inline\n",
    "import seaborn as sns\n",
    "from sklearn.metrics import mean_squared_error"
   ]
  },
  {
   "cell_type": "code",
   "execution_count": 2,
   "metadata": {},
   "outputs": [
    {
     "data": {
      "text/plain": [
       "array([[2.00800000e+03, 4.00000000e+01, 2.00000000e+00, ...,\n",
       "        1.00000000e+00, 4.50514998e+00, 9.04819134e+01],\n",
       "       [2.00600000e+03, 5.60000000e+01, 2.00000000e+00, ...,\n",
       "        1.00000000e+00, 4.76342799e+00, 1.17146817e+02],\n",
       "       [2.00900000e+03, 5.00000000e+01, 2.00000000e+00, ...,\n",
       "        1.00000000e+00, 4.60205999e+00, 9.96894637e+01],\n",
       "       ...,\n",
       "       [2.00500000e+03, 2.70000000e+01, 2.00000000e+00, ...,\n",
       "        2.00000000e+00, 4.19312460e+00, 6.62294083e+01],\n",
       "       [2.00500000e+03, 2.70000000e+01, 1.00000000e+00, ...,\n",
       "        1.00000000e+00, 4.47712125e+00, 8.79810328e+01],\n",
       "       [2.00900000e+03, 5.50000000e+01, 5.00000000e+00, ...,\n",
       "        1.00000000e+00, 4.50514998e+00, 9.04819134e+01]])"
      ]
     },
     "execution_count": 2,
     "metadata": {},
     "output_type": "execute_result"
    }
   ],
   "source": [
    "wage_dataset =np.array( pd.read_csv('Problem_3/Wage_dataset.csv', header=None))\n",
    "train = wage_dataset[0:2400]\n",
    "test = wage_dataset[2400:3000]\n",
    "test"
   ]
  },
  {
   "cell_type": "code",
   "execution_count": 3,
   "metadata": {
    "collapsed": true
   },
   "outputs": [],
   "source": [
    "def D(x,k):\n",
    "    D1=[]\n",
    "    for i in range(len(x)):\n",
    "        a=[]\n",
    "        for j in range(k+1):\n",
    "            a.append(x[i]**j)\n",
    "        D1.append(a)\n",
    "    return D1"
   ]
  },
  {
   "cell_type": "code",
   "execution_count": 4,
   "metadata": {
    "collapsed": true
   },
   "outputs": [],
   "source": [
    "def poly_regression(D,R):\n",
    "    w = np.linalg.inv(np.transpose(D)*D)*np.transpose(D)*np.transpose(R)\n",
    "    return w"
   ]
  },
  {
   "cell_type": "code",
   "execution_count": 5,
   "metadata": {},
   "outputs": [
    {
     "data": {
      "text/plain": [
       "array([2.00700000e+03, 4.50000000e+01, 4.00000000e+00, 1.00000000e+00,\n",
       "       3.00000000e+00, 2.00000000e+00, 2.00000000e+00, 1.00000000e+00,\n",
       "       1.00000000e+00, 4.76342799e+00, 1.17146817e+02])"
      ]
     },
     "execution_count": 5,
     "metadata": {},
     "output_type": "execute_result"
    }
   ],
   "source": [
    "wage = train[10]\n",
    "wage"
   ]
  },
  {
   "cell_type": "code",
   "execution_count": 9,
   "metadata": {},
   "outputs": [],
   "source": [
    "Age = train[1]\n",
    "r = np.matrix(Age)\n",
    "D_matrix = np.matrix(D(Age,4))"
   ]
  },
  {
   "cell_type": "code",
   "execution_count": 10,
   "metadata": {},
   "outputs": [],
   "source": [
    "w_train = poly_regression(D_matrix, r)"
   ]
  },
  {
   "cell_type": "code",
   "execution_count": 12,
   "metadata": {},
   "outputs": [
    {
     "data": {
      "text/plain": [
       "matrix([[1.00000000e+00, 2.00600000e+03, 4.02403600e+06, 8.07221622e+09,\n",
       "         1.61928657e+13],\n",
       "        [1.00000000e+00, 5.60000000e+01, 3.13600000e+03, 1.75616000e+05,\n",
       "         9.83449600e+06],\n",
       "        [1.00000000e+00, 2.00000000e+00, 4.00000000e+00, 8.00000000e+00,\n",
       "         1.60000000e+01],\n",
       "        [1.00000000e+00, 1.00000000e+00, 1.00000000e+00, 1.00000000e+00,\n",
       "         1.00000000e+00],\n",
       "        [1.00000000e+00, 5.00000000e+00, 2.50000000e+01, 1.25000000e+02,\n",
       "         6.25000000e+02],\n",
       "        [1.00000000e+00, 2.00000000e+00, 4.00000000e+00, 8.00000000e+00,\n",
       "         1.60000000e+01],\n",
       "        [1.00000000e+00, 2.00000000e+00, 4.00000000e+00, 8.00000000e+00,\n",
       "         1.60000000e+01],\n",
       "        [1.00000000e+00, 2.00000000e+00, 4.00000000e+00, 8.00000000e+00,\n",
       "         1.60000000e+01],\n",
       "        [1.00000000e+00, 1.00000000e+00, 1.00000000e+00, 1.00000000e+00,\n",
       "         1.00000000e+00],\n",
       "        [1.00000000e+00, 4.76342799e+00, 2.26902463e+01, 1.08083354e+02,\n",
       "         5.14847275e+02],\n",
       "        [1.00000000e+00, 1.17146817e+02, 1.37233767e+04, 1.60764990e+06,\n",
       "         1.88331068e+08]])"
      ]
     },
     "execution_count": 12,
     "metadata": {},
     "output_type": "execute_result"
    }
   ],
   "source": [
    "Age_test = test[1]\n",
    "r_test = np.matrix(Age_test)\n",
    "D_matrix_test = np.matrix(D(Age_test,4))\n",
    "D_matrix_test"
   ]
  },
  {
   "cell_type": "code",
   "execution_count": 16,
   "metadata": {},
   "outputs": [
    {
     "data": {
      "text/plain": [
       "(600, 11)"
      ]
     },
     "execution_count": 16,
     "metadata": {},
     "output_type": "execute_result"
    }
   ],
   "source": [
    "predicted = D_matrix_test*w_train\n",
    "\n",
    "test.shape"
   ]
  },
  {
   "cell_type": "code",
   "execution_count": 20,
   "metadata": {},
   "outputs": [
    {
     "data": {
      "text/plain": [
       "64.91911208641828"
      ]
     },
     "execution_count": 20,
     "metadata": {},
     "output_type": "execute_result"
    }
   ],
   "source": [
    "mean_squared_error(predicted,test[10])"
   ]
  },
  {
   "cell_type": "code",
   "execution_count": 24,
   "metadata": {},
   "outputs": [
    {
     "data": {
      "text/plain": [
       "81.91227514103052"
      ]
     },
     "execution_count": 24,
     "metadata": {},
     "output_type": "execute_result"
    }
   ],
   "source": [
    "Year = train[0]\n",
    "Year_matrix = np.matrix(Year)\n",
    "D_matrix_year = np.matrix(D(Year,4))\n",
    "w_train_year = poly_regression(D_matrix_year, Year_matrix)\n",
    "Year_test = test[0]\n",
    "Year_test_matrix = np.matrix(Year_test)\n",
    "D_matrix_test = np.matrix(D(Year_test,4))\n",
    "predicted_year = D_matrix_test*w_train_year\n",
    "mean_squared_error(predicted_year,test[10])"
   ]
  },
  {
   "cell_type": "code",
   "execution_count": null,
   "metadata": {},
   "outputs": [],
   "source": [
    "wage_dataset.plot(x=10, y=5, style=['o'])"
   ]
  },
  {
   "cell_type": "code",
   "execution_count": null,
   "metadata": {
    "collapsed": true
   },
   "outputs": [],
   "source": []
  }
 ],
 "metadata": {
  "kernelspec": {
   "display_name": "Python 3",
   "language": "python",
   "name": "python3"
  },
  "language_info": {
   "codemirror_mode": {
    "name": "ipython",
    "version": 3
   },
   "file_extension": ".py",
   "mimetype": "text/x-python",
   "name": "python",
   "nbconvert_exporter": "python",
   "pygments_lexer": "ipython3",
   "version": "3.5.4"
  }
 },
 "nbformat": 4,
 "nbformat_minor": 2
}
