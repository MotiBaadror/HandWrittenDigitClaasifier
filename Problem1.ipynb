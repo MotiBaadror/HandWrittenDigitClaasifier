{
 "cells": [
  {
   "cell_type": "code",
   "execution_count": 220,
   "metadata": {},
   "outputs": [],
   "source": [
    "from sklearn.metrics import confusion_matrix"
   ]
  },
  {
   "cell_type": "code",
   "execution_count": 180,
   "metadata": {},
   "outputs": [
    {
     "data": {
      "text/plain": [
       "(64, 64)"
      ]
     },
     "execution_count": 180,
     "metadata": {},
     "output_type": "execute_result"
    }
   ],
   "source": [
    "import csv\n",
    "import random\n",
    "import math\n",
    "import numpy as np\n",
    "from scipy.stats import multivariate_normal\n",
    "from sklearn.metrics import confusion_matrix\n",
    "\n",
    "\n",
    "train=csv.reader(open('P1_data/P1_data_train.csv'))\n",
    "train_data=[]\n",
    "for r in train:\n",
    "    train_data.append(r)\n",
    "train_data=np.array(train_data).astype(np.float32)\n",
    "\n",
    "    \n",
    "test=csv.reader(open('P1_data/P1_data_test.csv'))\n",
    "test_data=[]\n",
    "for r in test:\n",
    "    test_data.append(r)\n",
    "test_data=np.array(test_data).astype(np.float32)\n",
    "    \n",
    "    \n",
    "trainfile=csv.reader(open('P1_data/P1_labels_test.csv'))\n",
    "test_label=[]\n",
    "for r in trainfile:\n",
    "    test_label.append(r[0])\n",
    "test_label=np.array(test_label)\n",
    "\n",
    "    \n",
    "trainfile=csv.reader(open('P1_data/P1_labels_train.csv'))\n",
    "train_label=[]\n",
    "for r in trainfile:\n",
    "    train_label.append(r[0])\n",
    "train_label=np.array(train_label)\n",
    "\n",
    "\n",
    "index_5=[]\n",
    "index_6=[]\n",
    "\n",
    "        \n",
    "index_5=[i for i in range(len(train_label)) if train_label[i]=='5']\n",
    "\n",
    "index_6=[i for i in range(len(train_label)) if train_label[i]=='6']\n",
    "\n",
    "data_5= [train_data[i] for i in index_5 ]\n",
    "data_5=np.array(data_5)\n",
    "\n",
    "data_6= [train_data[i] for i in index_6 ]\n",
    "data_6=np.array(data_6)\n",
    "\n",
    "mean_5=np.mean(data_5 , axis= 0)\n",
    "mean_6=np.mean(data_5 , axis= 0)\n",
    "\n",
    "\n",
    "nominator=np.dot((data_5[: ,: ]-mean_5.T).T ,data_5[: ,: ]-mean_5.T ) \n",
    "std =np.sqrt(np.mean(nominator , axis=0)*64/63)\n",
    "\n",
    "\n",
    "\n",
    "\n",
    "cov_5= np.cov(data_5.T )\n",
    "cov_6=np.cov(data_6.T)\n",
    "\n",
    "cov_5.shape\n",
    "\n",
    "\n"
   ]
  },
  {
   "cell_type": "code",
   "execution_count": 185,
   "metadata": {},
   "outputs": [
    {
     "data": {
      "text/plain": [
       "array([ 5.       ,  5.0833335,  8.515152 , 10.340909 , 10.772727 ,\n",
       "        9.588384 ,  6.3560605,  4.767677 ,  5.229798 ,  6.209596 ,\n",
       "       10.785354 , 10.085858 ,  8.828282 ,  7.9116163,  5.6237373,\n",
       "        4.699495 ,  4.790404 ,  6.823232 , 10.239899 ,  7.20202  ,\n",
       "        6.0555553,  5.04798  ,  4.757576 ,  4.6868687,  5.0757575,\n",
       "        6.628788 , 10.510101 ,  9.997475 ,  7.9974747,  6.537879 ,\n",
       "        4.8131313,  4.712121 ,  5.1868687,  5.719697 ,  7.6010103,\n",
       "        8.186869 ,  8.886364 ,  7.9116163,  5.7777777,  4.4343433,\n",
       "        4.823232 ,  5.159091 ,  5.3434343,  6.0631313,  7.699495 ,\n",
       "        8.724748 ,  6.1666665,  4.8156567,  4.568182 ,  5.1136365,\n",
       "        7.239899 ,  8.017676 ,  9.159091 ,  8.128788 ,  5.8131313,\n",
       "        4.866162 ,  4.737374 ,  5.1262627,  8.964646 , 10.563131 ,\n",
       "        9.065657 ,  6.739899 ,  5.068182 ,  5.2449493], dtype=float32)"
      ]
     },
     "execution_count": 185,
     "metadata": {},
     "output_type": "execute_result"
    }
   ],
   "source": [
    "mean_5"
   ]
  },
  {
   "cell_type": "code",
   "execution_count": 186,
   "metadata": {},
   "outputs": [
    {
     "data": {
      "text/plain": [
       "array([ 5.       ,  5.0833335,  8.515152 , 10.340909 , 10.772727 ,\n",
       "        9.588384 ,  6.3560605,  4.767677 ,  5.229798 ,  6.209596 ,\n",
       "       10.785354 , 10.085858 ,  8.828282 ,  7.9116163,  5.6237373,\n",
       "        4.699495 ,  4.790404 ,  6.823232 , 10.239899 ,  7.20202  ,\n",
       "        6.0555553,  5.04798  ,  4.757576 ,  4.6868687,  5.0757575,\n",
       "        6.628788 , 10.510101 ,  9.997475 ,  7.9974747,  6.537879 ,\n",
       "        4.8131313,  4.712121 ,  5.1868687,  5.719697 ,  7.6010103,\n",
       "        8.186869 ,  8.886364 ,  7.9116163,  5.7777777,  4.4343433,\n",
       "        4.823232 ,  5.159091 ,  5.3434343,  6.0631313,  7.699495 ,\n",
       "        8.724748 ,  6.1666665,  4.8156567,  4.568182 ,  5.1136365,\n",
       "        7.239899 ,  8.017676 ,  9.159091 ,  8.128788 ,  5.8131313,\n",
       "        4.866162 ,  4.737374 ,  5.1262627,  8.964646 , 10.563131 ,\n",
       "        9.065657 ,  6.739899 ,  5.068182 ,  5.2449493], dtype=float32)"
      ]
     },
     "execution_count": 186,
     "metadata": {},
     "output_type": "execute_result"
    }
   ],
   "source": [
    "mean_6"
   ]
  },
  {
   "cell_type": "code",
   "execution_count": 183,
   "metadata": {},
   "outputs": [
    {
     "data": {
      "text/plain": [
       "array([[38.97721519, 21.53924051, 23.65316456, ..., 24.77468354,\n",
       "        24.91392405, 25.78481013],\n",
       "       [21.53924051, 38.60316456, 23.07088608, ..., 27.92299578,\n",
       "        23.6221519 , 25.58966245],\n",
       "       [23.65316456, 23.07088608, 44.78711162, ..., 24.03306483,\n",
       "        19.3976985 , 26.96969697],\n",
       "       ...,\n",
       "       [24.77468354, 27.92299578, 24.03306483, ..., 45.74230277,\n",
       "        26.31904488, 24.55501215],\n",
       "       [24.91392405, 23.6221519 , 19.3976985 , ..., 26.31904488,\n",
       "        39.38521289, 25.01616801],\n",
       "       [25.78481013, 25.58966245, 26.96969697, ..., 24.55501215,\n",
       "        25.01616801, 41.18794911]])"
      ]
     },
     "execution_count": 183,
     "metadata": {},
     "output_type": "execute_result"
    }
   ],
   "source": [
    "cov_5"
   ]
  },
  {
   "cell_type": "code",
   "execution_count": 184,
   "metadata": {},
   "outputs": [
    {
     "data": {
      "text/plain": [
       "array([[43.03746374, 23.49028181, 25.69353502, ..., 20.91406962,\n",
       "        24.07683382, 28.56881475],\n",
       "       [23.49028181, 40.40254179, 26.04896395, ..., 25.18293963,\n",
       "        26.83795414, 27.82393286],\n",
       "       [25.69353502, 26.04896395, 42.90302528, ..., 22.43736013,\n",
       "        20.97092831, 29.23485288],\n",
       "       ...,\n",
       "       [20.91406962, 25.18293963, 22.43736013, ..., 40.9690565 ,\n",
       "        26.76654925, 22.9340862 ],\n",
       "       [24.07683382, 26.83795414, 20.97092831, ..., 26.76654925,\n",
       "        46.10788783, 26.60076668],\n",
       "       [28.56881475, 27.82393286, 29.23485288, ..., 22.9340862 ,\n",
       "        26.60076668, 42.15437215]])"
      ]
     },
     "execution_count": 184,
     "metadata": {},
     "output_type": "execute_result"
    }
   ],
   "source": [
    "cov_6"
   ]
  },
  {
   "cell_type": "code",
   "execution_count": 190,
   "metadata": {},
   "outputs": [
    {
     "data": {
      "text/plain": [
       "array([[ 4.,  3., 16., ...,  0.,  1.,  5.],\n",
       "       [15.,  0., 11., ...,  0.,  0.,  0.],\n",
       "       [ 0.,  0.,  0., ...,  0.,  0.,  0.],\n",
       "       ...,\n",
       "       [16., 14., 16., ..., 10.,  9., 16.],\n",
       "       [ 0.,  0.,  0., ...,  0.,  0.,  0.],\n",
       "       [ 5.,  0., 16., ..., 16., 15.,  8.]], dtype=float32)"
      ]
     },
     "execution_count": 190,
     "metadata": {},
     "output_type": "execute_result"
    }
   ],
   "source": [
    "test_data"
   ]
  },
  {
   "cell_type": "markdown",
   "metadata": {},
   "source": [
    "\n",
    "y1 = multivariate_normal.pdf(data_test,mean=mean_5,cov=covariance_5)\n",
    "y2 = multivariate_normal.pdf(data_test,mean=mean_6,cov=covariance_6)"
   ]
  },
  {
   "cell_type": "code",
   "execution_count": 188,
   "metadata": {},
   "outputs": [],
   "source": [
    "y5 = multivariate_normal.pdf(test_data,mean=mean_5,cov=cov_5)\n",
    "y6 = multivariate_normal.pdf(test_data,mean=mean_6,cov=cov_6)"
   ]
  },
  {
   "cell_type": "code",
   "execution_count": 207,
   "metadata": {},
   "outputs": [
    {
     "data": {
      "text/plain": [
       "array([5, 5, 5, 5, 5, 5, 5, 6, 6, 5, 5, 6, 6, 5, 5, 6, 5, 5, 6, 5, 5, 6,\n",
       "       5, 5, 6, 5, 6, 6, 6, 5, 6, 5, 5, 5, 6, 6, 5, 5, 5, 5, 6, 5, 6, 5,\n",
       "       5, 6, 6, 5, 5, 5, 6, 5, 6, 6, 5, 6, 5, 6, 5, 6, 6, 6, 5, 6, 5, 6,\n",
       "       6, 6, 5, 6, 5, 5, 6, 5, 6, 6, 5, 5, 5, 6, 6, 5, 5, 5, 5, 5, 5, 6,\n",
       "       6, 6, 6, 6, 6, 6, 6, 6, 5, 6, 5, 5, 5, 6, 5, 5, 6, 6, 5, 6, 5, 6,\n",
       "       5, 6, 6, 5, 5, 6, 5, 5, 5, 5, 6, 6, 5, 5, 6, 5, 5, 6, 6, 5, 6, 6,\n",
       "       5, 5, 5, 6, 5, 5, 5, 6, 5, 6, 5, 5, 6, 5, 5, 6, 6, 5, 5, 5, 6, 5,\n",
       "       5, 6, 5, 5, 6, 5, 6, 6, 6, 6, 5, 5, 5, 6, 5, 6, 5, 5, 5, 5, 5, 6,\n",
       "       5, 5, 5, 5, 5, 5, 6, 6, 5, 5, 6, 5, 6, 5, 6, 6, 6, 6, 6, 5, 6, 5,\n",
       "       6, 6, 5, 5, 6, 5, 6, 6, 5, 5, 6, 6, 6, 5, 6, 6, 5, 5, 6, 6, 5, 6,\n",
       "       6, 5, 5, 5, 5, 5, 6, 6, 5, 6, 6, 5, 5, 5, 6, 6, 5, 5, 5, 5, 6, 6,\n",
       "       6, 6, 5, 5, 6, 5, 6, 5, 6, 5, 5, 5, 5, 5, 5, 6, 6, 5, 6, 5, 5, 6,\n",
       "       6, 5, 5, 5, 6, 6, 6, 5, 6, 6, 5, 5, 6, 5, 5, 5, 6, 5, 6, 5, 6, 6,\n",
       "       5, 6, 6, 6, 5, 5, 5, 6, 6, 6, 5, 6, 6, 5, 5, 6, 6, 5, 6, 6, 5, 6,\n",
       "       5, 6, 6, 5, 5, 6, 6, 6, 5, 5, 6, 5, 6, 5, 5, 6, 5, 6, 6, 6, 5, 5,\n",
       "       6, 5, 6], dtype=int32)"
      ]
     },
     "execution_count": 207,
     "metadata": {},
     "output_type": "execute_result"
    }
   ],
   "source": [
    "# li=[ a  for i in range(len(test_data)) if y5[i]> ]\n",
    "li = []\n",
    "for i in range(len(y1)):\n",
    "    if y1[i] > y2[i]:\n",
    "        li.append(5)\n",
    "    else:\n",
    "        li.append(6)\n",
    "\n",
    "li=np.array(li).astype(np.int32)\n",
    "li"
   ]
  },
  {
   "cell_type": "code",
   "execution_count": 209,
   "metadata": {},
   "outputs": [],
   "source": [
    "test_label=np.array(test_label).astype(np.int32)"
   ]
  },
  {
   "cell_type": "code",
   "execution_count": 211,
   "metadata": {},
   "outputs": [
    {
     "data": {
      "text/plain": [
       "216"
      ]
     },
     "execution_count": 211,
     "metadata": {},
     "output_type": "execute_result"
    }
   ],
   "source": [
    "c = 0\n",
    "for i in range(len(test_label)):\n",
    "    if(test_label[i] == li[i]):\n",
    "        c =c+ 1\n",
    "c"
   ]
  },
  {
   "cell_type": "code",
   "execution_count": 222,
   "metadata": {},
   "outputs": [
    {
     "name": "stdout",
     "output_type": "stream",
     "text": [
      "[[108  47]\n",
      " [ 70 108]]\n"
     ]
    }
   ],
   "source": [
    "conf_mat = confusion_matrix(test_label,li)\n",
    "print(conf_mat)"
   ]
  },
  {
   "cell_type": "code",
   "execution_count": 223,
   "metadata": {},
   "outputs": [
    {
     "data": {
      "text/plain": [
       "0.35135135135135137"
      ]
     },
     "execution_count": 223,
     "metadata": {},
     "output_type": "execute_result"
    }
   ],
   "source": [
    "misclassification_error = (conf_mat[0][1]+conf_mat[1][0])/(conf_mat[0][0]+conf_mat[0][1]+conf_mat[1][0]+conf_mat[1][1])\n",
    "misclassification_error"
   ]
  },
  {
   "cell_type": "code",
   "execution_count": null,
   "metadata": {
    "collapsed": true
   },
   "outputs": [],
   "source": []
  }
 ],
 "metadata": {
  "kernelspec": {
   "display_name": "Python 3",
   "language": "python",
   "name": "python3"
  },
  "language_info": {
   "codemirror_mode": {
    "name": "ipython",
    "version": 3
   },
   "file_extension": ".py",
   "mimetype": "text/x-python",
   "name": "python",
   "nbconvert_exporter": "python",
   "pygments_lexer": "ipython3",
   "version": "3.5.4"
  }
 },
 "nbformat": 4,
 "nbformat_minor": 2
}
